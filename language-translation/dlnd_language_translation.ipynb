{
 "cells": [
  {
   "cell_type": "markdown",
   "metadata": {
    "collapsed": true,
    "deletable": true,
    "editable": true
   },
   "source": [
    "# Language Translation\n",
    "In this project, you’re going to take a peek into the realm of neural network machine translation.  You’ll be training a sequence to sequence model on a dataset of English and French sentences that can translate new sentences from English to French.\n",
    "## Get the Data\n",
    "Since translating the whole language of English to French will take lots of time to train, we have provided you with a small portion of the English corpus."
   ]
  },
  {
   "cell_type": "code",
   "execution_count": 1,
   "metadata": {
    "collapsed": true,
    "deletable": true,
    "editable": true
   },
   "outputs": [],
   "source": [
    "\"\"\"\n",
    "DON'T MODIFY ANYTHING IN THIS CELL\n",
    "\"\"\"\n",
    "import helper\n",
    "import problem_unittests as tests\n",
    "\n",
    "source_path = 'data/small_vocab_en'\n",
    "target_path = 'data/small_vocab_fr'\n",
    "source_text = helper.load_data(source_path)\n",
    "target_text = helper.load_data(target_path)"
   ]
  },
  {
   "cell_type": "markdown",
   "metadata": {
    "deletable": true,
    "editable": true
   },
   "source": [
    "## Explore the Data\n",
    "Play around with view_sentence_range to view different parts of the data."
   ]
  },
  {
   "cell_type": "code",
   "execution_count": 2,
   "metadata": {
    "collapsed": false,
    "deletable": true,
    "editable": true
   },
   "outputs": [
    {
     "name": "stdout",
     "output_type": "stream",
     "text": [
      "Dataset Stats\n",
      "Roughly the number of unique words: 227\n",
      "Number of sentences: 137861\n",
      "Average number of words in a sentence: 13.225277634719028\n",
      "\n",
      "English sentences 25 to 35:\n",
      "california is never cold during may , and it is sometimes chilly in march .\n",
      "he dislikes lemons , grapes , and mangoes.\n",
      "their favorite fruit is the mango , but our favorite is the pear .\n",
      "france is sometimes quiet during may , and it is never chilly in august .\n",
      "paris is never pleasant during september , and it is beautiful in autumn .\n",
      "he dislikes apples , peaches , and grapes .\n",
      "california is usually freezing during december , and it is busy in april .\n",
      "your most feared animal is that shark .\n",
      "paris is usually wet during august , and it is never dry in november .\n",
      "paris is usually beautiful during september , and it is usually snowy in november .\n",
      "\n",
      "French sentences 25 to 35:\n",
      "californie ne fait jamais froid au mois de mai , et il est parfois frisquet en mars .\n",
      "il déteste les citrons , les raisins et les mangues .\n",
      "leur fruit préféré est la mangue , mais notre préféré est la poire .\n",
      "la france est parfois calme au mois de mai , et il est jamais froid en août .\n",
      "paris est jamais agréable en septembre , et il est beau à l' automne .\n",
      "il déteste les pommes , les pêches et les raisins .\n",
      "la californie est le gel habituellement en décembre , et il est occupé en avril .\n",
      "votre animal le plus redouté est que le requin .\n",
      "paris est généralement humide au mois d' août , et il est jamais sec en novembre .\n",
      "paris est généralement beau en septembre , et il est généralement enneigée en novembre .\n"
     ]
    }
   ],
   "source": [
    "view_sentence_range = (25, 35)\n",
    "\n",
    "\"\"\"\n",
    "DON'T MODIFY ANYTHING IN THIS CELL\n",
    "\"\"\"\n",
    "import numpy as np\n",
    "\n",
    "print('Dataset Stats')\n",
    "print('Roughly the number of unique words: {}'.format(len({word: None for word in source_text.split()})))\n",
    "\n",
    "sentences = source_text.split('\\n')\n",
    "word_counts = [len(sentence.split()) for sentence in sentences]\n",
    "print('Number of sentences: {}'.format(len(sentences)))\n",
    "print('Average number of words in a sentence: {}'.format(np.average(word_counts)))\n",
    "\n",
    "print()\n",
    "print('English sentences {} to {}:'.format(*view_sentence_range))\n",
    "print('\\n'.join(source_text.split('\\n')[view_sentence_range[0]:view_sentence_range[1]]))\n",
    "print()\n",
    "print('French sentences {} to {}:'.format(*view_sentence_range))\n",
    "print('\\n'.join(target_text.split('\\n')[view_sentence_range[0]:view_sentence_range[1]]))"
   ]
  },
  {
   "cell_type": "markdown",
   "metadata": {
    "deletable": true,
    "editable": true
   },
   "source": [
    "## Implement Preprocessing Function\n",
    "### Text to Word Ids\n",
    "As you did with other RNNs, you must turn the text into a number so the computer can understand it. In the function `text_to_ids()`, you'll turn `source_text` and `target_text` from words to ids.  However, you need to add the `<EOS>` word id at the end of `target_text`.  This will help the neural network predict when the sentence should end.\n",
    "\n",
    "You can get the `<EOS>` word id by doing:\n",
    "```python\n",
    "target_vocab_to_int['<EOS>']\n",
    "```\n",
    "You can get other word ids using `source_vocab_to_int` and `target_vocab_to_int`."
   ]
  },
  {
   "cell_type": "code",
   "execution_count": 3,
   "metadata": {
    "collapsed": false,
    "deletable": true,
    "editable": true
   },
   "outputs": [
    {
     "name": "stdout",
     "output_type": "stream",
     "text": [
      "Tests Passed\n"
     ]
    }
   ],
   "source": [
    "def text_to_ids(source_text, target_text, source_vocab_to_int, target_vocab_to_int):\n",
    "    \"\"\"\n",
    "    Convert source and target text to proper word ids\n",
    "    :param source_text: String that contains all the source text.\n",
    "    :param target_text: String that contains all the target text.\n",
    "    :param source_vocab_to_int: Dictionary to go from the source words to an id\n",
    "    :param target_vocab_to_int: Dictionary to go from the target words to an id\n",
    "    :return: A tuple of lists (source_id_text, target_id_text)\n",
    "    \"\"\"\n",
    "    # TODO: Implement Function\n",
    "    # Splitting sentences\n",
    "    source_text_split = source_text.split(\"\\n\")\n",
    "    target_text_split = target_text.split(\"\\n\")\n",
    "    \n",
    "    # Initialazing lists \n",
    "    source_id_text, target_id_text = [], []\n",
    "    \n",
    "    # Splitting and assigning\n",
    "    for i in range(len(source_text_split)):\n",
    "        source_id_text.append([source_vocab_to_int[id_word] for id_word in source_text_split[i].split()])\n",
    "    \n",
    "    for i in range(len(target_text_split)):\n",
    "        target_id_text.append([target_vocab_to_int[id_word] for id_word in target_text_split[i].split()])\n",
    "        target_id_text[i].append(target_vocab_to_int['<EOS>']) \n",
    "    \n",
    "    return source_id_text, target_id_text\n",
    "\n",
    "\"\"\"\n",
    "DON'T MODIFY ANYTHING IN THIS CELL THAT IS BELOW THIS LINE\n",
    "\"\"\"\n",
    "tests.test_text_to_ids(text_to_ids)"
   ]
  },
  {
   "cell_type": "markdown",
   "metadata": {
    "deletable": true,
    "editable": true
   },
   "source": [
    "### Preprocess all the data and save it\n",
    "Running the code cell below will preprocess all the data and save it to file."
   ]
  },
  {
   "cell_type": "code",
   "execution_count": 4,
   "metadata": {
    "collapsed": true,
    "deletable": true,
    "editable": true
   },
   "outputs": [],
   "source": [
    "\"\"\"\n",
    "DON'T MODIFY ANYTHING IN THIS CELL\n",
    "\"\"\"\n",
    "helper.preprocess_and_save_data(source_path, target_path, text_to_ids)"
   ]
  },
  {
   "cell_type": "markdown",
   "metadata": {
    "deletable": true,
    "editable": true
   },
   "source": [
    "# Check Point\n",
    "This is your first checkpoint. If you ever decide to come back to this notebook or have to restart the notebook, you can start from here. The preprocessed data has been saved to disk."
   ]
  },
  {
   "cell_type": "code",
   "execution_count": 5,
   "metadata": {
    "collapsed": true,
    "deletable": true,
    "editable": true
   },
   "outputs": [],
   "source": [
    "\"\"\"\n",
    "DON'T MODIFY ANYTHING IN THIS CELL\n",
    "\"\"\"\n",
    "import numpy as np\n",
    "import helper\n",
    "import problem_unittests as tests\n",
    "\n",
    "(source_int_text, target_int_text), (source_vocab_to_int, target_vocab_to_int), _ = helper.load_preprocess()"
   ]
  },
  {
   "cell_type": "markdown",
   "metadata": {
    "deletable": true,
    "editable": true
   },
   "source": [
    "### Check the Version of TensorFlow and Access to GPU\n",
    "This will check to make sure you have the correct version of TensorFlow and access to a GPU"
   ]
  },
  {
   "cell_type": "code",
   "execution_count": 6,
   "metadata": {
    "collapsed": false,
    "deletable": true,
    "editable": true
   },
   "outputs": [
    {
     "name": "stdout",
     "output_type": "stream",
     "text": [
      "TensorFlow Version: 1.1.0\n",
      "Default GPU Device: /gpu:0\n"
     ]
    }
   ],
   "source": [
    "\"\"\"\n",
    "DON'T MODIFY ANYTHING IN THIS CELL\n",
    "\"\"\"\n",
    "from distutils.version import LooseVersion\n",
    "import warnings\n",
    "import tensorflow as tf\n",
    "from tensorflow.python.layers.core import Dense\n",
    "\n",
    "# Check TensorFlow Version\n",
    "assert LooseVersion(tf.__version__) >= LooseVersion('1.1'), 'Please use TensorFlow version 1.1 or newer'\n",
    "print('TensorFlow Version: {}'.format(tf.__version__))\n",
    "\n",
    "# Check for a GPU\n",
    "if not tf.test.gpu_device_name():\n",
    "    warnings.warn('No GPU found. Please use a GPU to train your neural network.')\n",
    "else:\n",
    "    print('Default GPU Device: {}'.format(tf.test.gpu_device_name()))"
   ]
  },
  {
   "cell_type": "markdown",
   "metadata": {
    "deletable": true,
    "editable": true
   },
   "source": [
    "## Build the Neural Network\n",
    "You'll build the components necessary to build a Sequence-to-Sequence model by implementing the following functions below:\n",
    "- `model_inputs`\n",
    "- `process_decoder_input`\n",
    "- `encoding_layer`\n",
    "- `decoding_layer_train`\n",
    "- `decoding_layer_infer`\n",
    "- `decoding_layer`\n",
    "- `seq2seq_model`\n",
    "\n",
    "### Input\n",
    "Implement the `model_inputs()` function to create TF Placeholders for the Neural Network. It should create the following placeholders:\n",
    "\n",
    "- Input text placeholder named \"input\" using the TF Placeholder name parameter with rank 2.\n",
    "- Targets placeholder with rank 2.\n",
    "- Learning rate placeholder with rank 0.\n",
    "- Keep probability placeholder named \"keep_prob\" using the TF Placeholder name parameter with rank 0.\n",
    "- Target sequence length placeholder named \"target_sequence_length\" with rank 1\n",
    "- Max target sequence length tensor named \"max_target_len\" getting its value from applying tf.reduce_max on the target_sequence_length placeholder. Rank 0.\n",
    "- Source sequence length placeholder named \"source_sequence_length\" with rank 1\n",
    "\n",
    "Return the placeholders in the following the tuple (input, targets, learning rate, keep probability, target sequence length, max target sequence length, source sequence length)"
   ]
  },
  {
   "cell_type": "code",
   "execution_count": 7,
   "metadata": {
    "collapsed": false,
    "deletable": true,
    "editable": true
   },
   "outputs": [
    {
     "name": "stdout",
     "output_type": "stream",
     "text": [
      "Tests Passed\n"
     ]
    }
   ],
   "source": [
    "def model_inputs():\n",
    "    \"\"\"\n",
    "    Create TF Placeholders for input, targets, learning rate, and lengths of source and target sequences.\n",
    "    :return: Tuple (input, targets, learning rate, keep probability, target sequence length,\n",
    "    max target sequence length, source sequence length)\n",
    "    \"\"\"\n",
    "    # TODO: Implement Function\n",
    "    inputs = tf.placeholder(tf.int32, shape = [None, None], name = \"input\")\n",
    "    \n",
    "    targets = tf.placeholder(tf.int32, shape = [None, None])\n",
    "    \n",
    "    learning_rate = tf.placeholder(tf.float32, shape = None)\n",
    "    \n",
    "    keep_probability = tf.placeholder(tf.float32, shape = None, name = \"keep_prob\")\n",
    "    \n",
    "    target_sequence_length = tf.placeholder(tf.int32, shape = [None], name = \"target_sequence_length\")\n",
    "    \n",
    "    max_target_len = tf.reduce_max(target_sequence_length, name = \"max_target_len\")\n",
    "    \n",
    "    source_sequence_length = tf.placeholder(tf.int32, shape = [None], name = \"source_sequence_length\")\n",
    "    \n",
    "    return inputs, targets, learning_rate, keep_probability, target_sequence_length, max_target_len, source_sequence_length\n",
    "\n",
    "#None, None, None, None, None, None, None\n",
    "\n",
    "\n",
    "\"\"\"\n",
    "DON'T MODIFY ANYTHING IN THIS CELL THAT IS BELOW THIS LINE\n",
    "\"\"\"\n",
    "tests.test_model_inputs(model_inputs)"
   ]
  },
  {
   "cell_type": "markdown",
   "metadata": {
    "deletable": true,
    "editable": true
   },
   "source": [
    "### Process Decoder Input\n",
    "Implement `process_decoder_input` by removing the last word id from each batch in `target_data` and concat the GO ID to the begining of each batch."
   ]
  },
  {
   "cell_type": "code",
   "execution_count": 8,
   "metadata": {
    "collapsed": false,
    "deletable": true,
    "editable": true
   },
   "outputs": [
    {
     "name": "stdout",
     "output_type": "stream",
     "text": [
      "Tests Passed\n"
     ]
    }
   ],
   "source": [
    "def process_decoder_input(target_data, target_vocab_to_int, batch_size):\n",
    "    \"\"\"\n",
    "    Preprocess target data for encoding\n",
    "    :param target_data: Target Placehoder\n",
    "    :param target_vocab_to_int: Dictionary to go from the target words to an id\n",
    "    :param batch_size: Batch Size\n",
    "    :return: Preprocessed target data\n",
    "    \"\"\"\n",
    "    # TODO: Implement Function\n",
    "    ending = tf.strided_slice(target_data, [0, 0], [batch_size, -1], [1, 1])\n",
    "    dec_input = tf.concat([tf.fill([batch_size, 1], target_vocab_to_int['<GO>']), ending], 1)\n",
    "\n",
    "    return dec_input\n",
    "\n",
    "\"\"\"\n",
    "DON'T MODIFY ANYTHING IN THIS CELL THAT IS BELOW THIS LINE\n",
    "\"\"\"\n",
    "tests.test_process_encoding_input(process_decoder_input)"
   ]
  },
  {
   "cell_type": "markdown",
   "metadata": {
    "deletable": true,
    "editable": true
   },
   "source": [
    "### Encoding\n",
    "Implement `encoding_layer()` to create a Encoder RNN layer:\n",
    " * Embed the encoder input using [`tf.contrib.layers.embed_sequence`](https://www.tensorflow.org/api_docs/python/tf/contrib/layers/embed_sequence)\n",
    " * Construct a [stacked](https://github.com/tensorflow/tensorflow/blob/6947f65a374ebf29e74bb71e36fd82760056d82c/tensorflow/docs_src/tutorials/recurrent.md#stacking-multiple-lstms) [`tf.contrib.rnn.LSTMCell`](https://www.tensorflow.org/api_docs/python/tf/contrib/rnn/LSTMCell) wrapped in a [`tf.contrib.rnn.DropoutWrapper`](https://www.tensorflow.org/api_docs/python/tf/contrib/rnn/DropoutWrapper)\n",
    " * Pass cell and embedded input to [`tf.nn.dynamic_rnn()`](https://www.tensorflow.org/api_docs/python/tf/nn/dynamic_rnn)"
   ]
  },
  {
   "cell_type": "code",
   "execution_count": 9,
   "metadata": {
    "collapsed": false,
    "deletable": true,
    "editable": true,
    "scrolled": false
   },
   "outputs": [
    {
     "name": "stdout",
     "output_type": "stream",
     "text": [
      "Tests Passed\n"
     ]
    }
   ],
   "source": [
    "from imp import reload\n",
    "reload(tests)\n",
    "\n",
    "def encoding_layer(rnn_inputs, rnn_size, num_layers, keep_prob, \n",
    "                   source_sequence_length, source_vocab_size, \n",
    "                   encoding_embedding_size):\n",
    "    \"\"\"\n",
    "    Create encoding layer\n",
    "    :param rnn_inputs: Inputs for the RNN\n",
    "    :param rnn_size: RNN Size\n",
    "    :param num_layers: Number of layers\n",
    "    :param keep_prob: Dropout keep probability\n",
    "    :param source_sequence_length: a list of the lengths of each sequence in the batch\n",
    "    :param source_vocab_size: vocabulary size of source data\n",
    "    :param encoding_embedding_size: embedding size of source data\n",
    "    :return: tuple (RNN output, RNN state)\n",
    "    \"\"\"\n",
    "    # TODO: Implement Function\n",
    "    \n",
    "    # This will cread the embedded sequence with the right shape\n",
    "    embed_input = tf.contrib.layers.embed_sequence(rnn_inputs, source_vocab_size, encoding_embedding_size)\n",
    "    \n",
    "    # In order to create more than one layer it we have to create a function that generates a new layer\n",
    "    def make_cell(rnn_size):\n",
    "        rnn_cell = tf.contrib.rnn.LSTMCell(rnn_size,\n",
    "                                           initializer=tf.random_uniform_initializer(-0.1, 0.1, seed=2))\n",
    "        return rnn_cell\n",
    "    \n",
    "    # This will stack multiple layers to catch more expresion of the vocabulary\n",
    "    \n",
    "    rnn_cell = tf.contrib.rnn.MultiRNNCell([make_cell(rnn_size) for i in range(num_layers)])\n",
    "    \n",
    "    # We add the dropout layer\n",
    "    rnn_cell = tf.contrib.rnn.DropoutWrapper(rnn_cell, input_keep_prob = keep_prob, \n",
    "                                             output_keep_prob = keep_prob, state_keep_prob = keep_prob)\n",
    "    \n",
    "    output, state = tf.nn.dynamic_rnn(rnn_cell, embed_input, sequence_length=source_sequence_length, dtype=tf.float32)\n",
    "        \n",
    "    return output, state\n",
    "\n",
    "\"\"\"\n",
    "DON'T MODIFY ANYTHING IN THIS CELL THAT IS BELOW THIS LINE\n",
    "\"\"\"\n",
    "tests.test_encoding_layer(encoding_layer)"
   ]
  },
  {
   "cell_type": "markdown",
   "metadata": {
    "deletable": true,
    "editable": true
   },
   "source": [
    "### Decoding - Training\n",
    "Create a training decoding layer:\n",
    "* Create a [`tf.contrib.seq2seq.TrainingHelper`](https://www.tensorflow.org/api_docs/python/tf/contrib/seq2seq/TrainingHelper) \n",
    "* Create a [`tf.contrib.seq2seq.BasicDecoder`](https://www.tensorflow.org/api_docs/python/tf/contrib/seq2seq/BasicDecoder)\n",
    "* Obtain the decoder outputs from [`tf.contrib.seq2seq.dynamic_decode`](https://www.tensorflow.org/api_docs/python/tf/contrib/seq2seq/dynamic_decode)"
   ]
  },
  {
   "cell_type": "code",
   "execution_count": 10,
   "metadata": {
    "collapsed": false,
    "deletable": true,
    "editable": true
   },
   "outputs": [
    {
     "name": "stdout",
     "output_type": "stream",
     "text": [
      "Tests Passed\n"
     ]
    }
   ],
   "source": [
    "\n",
    "def decoding_layer_train(encoder_state, dec_cell, dec_embed_input, \n",
    "                         target_sequence_length, max_summary_length, \n",
    "                         output_layer, keep_prob):\n",
    "    \"\"\"\n",
    "    Create a decoding layer for training\n",
    "    :param encoder_state: Encoder State\n",
    "    :param dec_cell: Decoder RNN Cell\n",
    "    :param dec_embed_input: Decoder embedded input\n",
    "    :param target_sequence_length: The lengths of each sequence in the target batch\n",
    "    :param max_summary_length: The length of the longest sequence in the batch\n",
    "    :param output_layer: Function to apply the output layer\n",
    "    :param keep_prob: Dropout keep probability\n",
    "    :return: BasicDecoderOutput containing training logits and sample_id\n",
    "    \"\"\"\n",
    "    # TODO: Implement Function\n",
    "    \n",
    "    # Helper for the training process. Used by BasicDecoder to read inputs.\n",
    "    training_helper = tf.contrib.seq2seq.TrainingHelper(inputs = dec_embed_input,\n",
    "                                                        sequence_length = target_sequence_length,\n",
    "                                                        time_major = False)\n",
    "        \n",
    "        \n",
    "    # Basic decoder\n",
    "    training_decoder = tf.contrib.seq2seq.BasicDecoder(dec_cell,\n",
    "                                                       training_helper,\n",
    "                                                       encoder_state,\n",
    "                                                       output_layer)\n",
    "    \n",
    "    # Perform dynamic decoding using the decoder\n",
    "    training_decoder_output = tf.contrib.seq2seq.dynamic_decode(training_decoder,\n",
    "                                                                impute_finished=True,\n",
    "                                                                maximum_iterations=max_summary_length)[0] # 0 for final output\n",
    "    \n",
    "    return training_decoder_output\n",
    "\n",
    "\n",
    "\n",
    "\"\"\"\n",
    "DON'T MODIFY ANYTHING IN THIS CELL THAT IS BELOW THIS LINE\n",
    "\"\"\"\n",
    "tests.test_decoding_layer_train(decoding_layer_train)"
   ]
  },
  {
   "cell_type": "markdown",
   "metadata": {
    "deletable": true,
    "editable": true
   },
   "source": [
    "### Decoding - Inference\n",
    "Create inference decoder:\n",
    "* Create a [`tf.contrib.seq2seq.GreedyEmbeddingHelper`](https://www.tensorflow.org/api_docs/python/tf/contrib/seq2seq/GreedyEmbeddingHelper)\n",
    "* Create a [`tf.contrib.seq2seq.BasicDecoder`](https://www.tensorflow.org/api_docs/python/tf/contrib/seq2seq/BasicDecoder)\n",
    "* Obtain the decoder outputs from [`tf.contrib.seq2seq.dynamic_decode`](https://www.tensorflow.org/api_docs/python/tf/contrib/seq2seq/dynamic_decode)"
   ]
  },
  {
   "cell_type": "code",
   "execution_count": 11,
   "metadata": {
    "collapsed": false,
    "deletable": true,
    "editable": true,
    "scrolled": true
   },
   "outputs": [
    {
     "name": "stdout",
     "output_type": "stream",
     "text": [
      "Tests Passed\n"
     ]
    }
   ],
   "source": [
    "def decoding_layer_infer(encoder_state, dec_cell, dec_embeddings, start_of_sequence_id,\n",
    "                         end_of_sequence_id, max_target_sequence_length,\n",
    "                         vocab_size, output_layer, batch_size, keep_prob): # vocab_size, batch_size, keep_prob\n",
    "    \"\"\"\n",
    "    Create a decoding layer for inference\n",
    "    :param encoder_state: Encoder state\n",
    "    :param dec_cell: Decoder RNN Cell\n",
    "    :param dec_embeddings: Decoder embeddings\n",
    "    :param start_of_sequence_id: GO ID\n",
    "    :param end_of_sequence_id: EOS Id\n",
    "    :param max_target_sequence_length: Maximum length of target sequences\n",
    "    :param vocab_size: Size of decoder/target vocabulary\n",
    "    :param decoding_scope: TenorFlow Variable Scope for decoding\n",
    "    :param output_layer: Function to apply the output layer\n",
    "    :param batch_size: Batch size\n",
    "    :param keep_prob: Dropout keep probability\n",
    "    :return: BasicDecoderOutput containing inference logits and sample_id\n",
    "    \"\"\"\n",
    "    # TODO: Implement Function\n",
    "    # Creates an \"array\" of start tokens depending on the batch size \n",
    "    start_tokens = tf.tile(tf.constant([start_of_sequence_id], dtype=tf.int32), [batch_size], name='start_tokens')\n",
    "    \n",
    "    # Helper for the inference process.\n",
    "    inf_helper = tf.contrib.seq2seq.GreedyEmbeddingHelper(dec_embeddings,\n",
    "                                                          start_tokens,\n",
    "                                                          end_of_sequence_id)\n",
    "    \n",
    "    # Basic decoder\n",
    "    inf_decoder = tf.contrib.seq2seq.BasicDecoder(dec_cell,\n",
    "                                                  inf_helper,\n",
    "                                                  encoder_state,\n",
    "                                                  output_layer)\n",
    "    \n",
    "    # Dynamic decoding with the decoder created\n",
    "    inf_decoder_output = tf.contrib.seq2seq.dynamic_decode(inf_decoder,\n",
    "                                                           impute_finished=True,\n",
    "                                                           maximum_iterations=max_target_sequence_length)[0]\n",
    "        \n",
    "    return inf_decoder_output\n",
    "\n",
    "\n",
    "\n",
    "\"\"\"\n",
    "DON'T MODIFY ANYTHING IN THIS CELL THAT IS BELOW THIS LINE\n",
    "\"\"\"\n",
    "tests.test_decoding_layer_infer(decoding_layer_infer)"
   ]
  },
  {
   "cell_type": "markdown",
   "metadata": {
    "deletable": true,
    "editable": true
   },
   "source": [
    "### Build the Decoding Layer\n",
    "Implement `decoding_layer()` to create a Decoder RNN layer.\n",
    "\n",
    "* Embed the target sequences\n",
    "* Construct the decoder LSTM cell (just like you constructed the encoder cell above)\n",
    "* Create an output layer to map the outputs of the decoder to the elements of our vocabulary\n",
    "* Use the your `decoding_layer_train(encoder_state, dec_cell, dec_embed_input, target_sequence_length, max_target_sequence_length, output_layer, keep_prob)` function to get the training logits.\n",
    "* Use your `decoding_layer_infer(encoder_state, dec_cell, dec_embeddings, start_of_sequence_id, end_of_sequence_id, max_target_sequence_length, vocab_size, output_layer, batch_size, keep_prob)` function to get the inference logits.\n",
    "\n",
    "Note: You'll need to use [tf.variable_scope](https://www.tensorflow.org/api_docs/python/tf/variable_scope) to share variables between training and inference."
   ]
  },
  {
   "cell_type": "code",
   "execution_count": 12,
   "metadata": {
    "collapsed": false,
    "deletable": true,
    "editable": true
   },
   "outputs": [
    {
     "name": "stdout",
     "output_type": "stream",
     "text": [
      "Tests Passed\n"
     ]
    }
   ],
   "source": [
    "def decoding_layer(dec_input, encoder_state,\n",
    "                   target_sequence_length, max_target_sequence_length,\n",
    "                   rnn_size,\n",
    "                   num_layers, target_vocab_to_int, target_vocab_size,\n",
    "                   batch_size, keep_prob, decoding_embedding_size):\n",
    "    \"\"\"\n",
    "    Create decoding layer\n",
    "    :param dec_input: Decoder input\n",
    "    :param encoder_state: Encoder state\n",
    "    :param target_sequence_length: The lengths of each sequence in the target batch\n",
    "    :param max_target_sequence_length: Maximum length of target sequences\n",
    "    :param rnn_size: RNN Size\n",
    "    :param num_layers: Number of layers\n",
    "    :param target_vocab_to_int: Dictionary to go from the target words to an id\n",
    "    :param target_vocab_size: Size of target vocabulary\n",
    "    :param batch_size: The size of the batch\n",
    "    :param keep_prob: Dropout keep probability\n",
    "    :param decoding_embedding_size: Decoding embedding size\n",
    "    :return: Tuple of (Training BasicDecoderOutput, Inference BasicDecoderOutput)\n",
    "    \"\"\"\n",
    "    # TODO: Implement Function\n",
    "        \n",
    "    # Embedding sequences\n",
    "    dec_embeddings = tf.Variable(tf.random_uniform([target_vocab_size, decoding_embedding_size]))\n",
    "    dec_embed_input = tf.nn.embedding_lookup(dec_embeddings, dec_input)\n",
    "    \n",
    "    # Making the decoder LSTM cells\n",
    "    \n",
    "    def make_cell(rnn_size):\n",
    "        rnn_cell = tf.contrib.rnn.LSTMCell(rnn_size,\n",
    "                                           initializer=tf.random_uniform_initializer(-0.1, 0.1, seed=2))\n",
    "        return rnn_cell\n",
    "    \n",
    "    enc_cell = tf.contrib.rnn.MultiRNNCell([make_cell(rnn_size) for i in range(num_layers)])\n",
    "    # Dropout layer\n",
    "    enc_cell = tf.contrib.rnn.DropoutWrapper(enc_cell, input_keep_prob = keep_prob, \n",
    "                                             output_keep_prob = keep_prob, state_keep_prob = keep_prob)\n",
    "    \n",
    "    # Creating the output layer\n",
    "    \n",
    "    output_layer = Dense(target_vocab_size,\n",
    "                         kernel_initializer = tf.truncated_normal_initializer(mean = 0.0, stddev=0.1))\n",
    "    \n",
    "    # Training logits\n",
    "    \n",
    "    with tf.variable_scope(\"decode\"):\n",
    "        training_decoder_output = decoding_layer_train(encoder_state, enc_cell, dec_embed_input, target_sequence_length, \n",
    "                                                       max_target_sequence_length, output_layer, keep_prob)\n",
    "    \n",
    "    # Inference logits\n",
    "    \n",
    "    with tf.variable_scope(\"decode\", reuse = True):\n",
    "        inference_decoder_output = decoding_layer_infer(encoder_state, enc_cell, dec_embeddings, target_vocab_to_int['<GO>'], \n",
    "                                                        target_vocab_to_int['<EOS>'], max_target_sequence_length, target_vocab_size, \n",
    "                                                        output_layer, batch_size, keep_prob)\n",
    "    \n",
    "    return training_decoder_output, inference_decoder_output\n",
    "\n",
    "\n",
    "\n",
    "\"\"\"\n",
    "DON'T MODIFY ANYTHING IN THIS CELL THAT IS BELOW THIS LINE\n",
    "\"\"\"\n",
    "tests.test_decoding_layer(decoding_layer)"
   ]
  },
  {
   "cell_type": "markdown",
   "metadata": {
    "deletable": true,
    "editable": true
   },
   "source": [
    "### Build the Neural Network\n",
    "Apply the functions you implemented above to:\n",
    "\n",
    "- Encode the input using your `encoding_layer(rnn_inputs, rnn_size, num_layers, keep_prob,  source_sequence_length, source_vocab_size, encoding_embedding_size)`.\n",
    "- Process target data using your `process_decoder_input(target_data, target_vocab_to_int, batch_size)` function.\n",
    "- Decode the encoded input using your `decoding_layer(dec_input, enc_state, target_sequence_length, max_target_sentence_length, rnn_size, num_layers, target_vocab_to_int, target_vocab_size, batch_size, keep_prob, dec_embedding_size)` function."
   ]
  },
  {
   "cell_type": "code",
   "execution_count": 13,
   "metadata": {
    "collapsed": false,
    "deletable": true,
    "editable": true
   },
   "outputs": [
    {
     "name": "stdout",
     "output_type": "stream",
     "text": [
      "Tests Passed\n"
     ]
    }
   ],
   "source": [
    "def seq2seq_model(input_data, target_data, keep_prob, batch_size,\n",
    "                  source_sequence_length, target_sequence_length,\n",
    "                  max_target_sentence_length,\n",
    "                  source_vocab_size, target_vocab_size,\n",
    "                  enc_embedding_size, dec_embedding_size,\n",
    "                  rnn_size, num_layers, target_vocab_to_int):\n",
    "    \"\"\"\n",
    "    Build the Sequence-to-Sequence part of the neural network\n",
    "    :param input_data: Input placeholder\n",
    "    :param target_data: Target placeholder\n",
    "    :param keep_prob: Dropout keep probability placeholder\n",
    "    :param batch_size: Batch Size\n",
    "    :param source_sequence_length: Sequence Lengths of source sequences in the batch\n",
    "    :param target_sequence_length: Sequence Lengths of target sequences in the batch\n",
    "    :param source_vocab_size: Source vocabulary size\n",
    "    :param target_vocab_size: Target vocabulary size\n",
    "    :param enc_embedding_size: Decoder embedding size\n",
    "    :param dec_embedding_size: Encoder embedding size\n",
    "    :param rnn_size: RNN Size\n",
    "    :param num_layers: Number of layers\n",
    "    :param target_vocab_to_int: Dictionary to go from the target words to an id\n",
    "    :return: Tuple of (Training BasicDecoderOutput, Inference BasicDecoderOutput)\n",
    "    \"\"\"\n",
    "    # TODO: Implement Function\n",
    "    \n",
    "    _, enc_state = encoding_layer(input_data, rnn_size, num_layers, keep_prob, source_sequence_length, \n",
    "                   source_vocab_size, enc_embedding_size)\n",
    "    \n",
    "    dec_input = process_decoder_input(target_data, target_vocab_to_int, batch_size)\n",
    "    \n",
    "    training_decoder_output, inference_decoder_output = decoding_layer(dec_input, enc_state, target_sequence_length, \n",
    "                                                                       max_target_sentence_length, rnn_size, num_layers, \n",
    "                                                                       target_vocab_to_int, target_vocab_size,\n",
    "                                                                       batch_size, keep_prob, dec_embedding_size)\n",
    "    \n",
    "    return training_decoder_output, inference_decoder_output\n",
    "\n",
    "\n",
    "\"\"\"\n",
    "DON'T MODIFY ANYTHING IN THIS CELL THAT IS BELOW THIS LINE\n",
    "\"\"\"\n",
    "tests.test_seq2seq_model(seq2seq_model)"
   ]
  },
  {
   "cell_type": "markdown",
   "metadata": {
    "deletable": true,
    "editable": true
   },
   "source": [
    "## Neural Network Training\n",
    "### Hyperparameters\n",
    "Tune the following parameters:\n",
    "\n",
    "- Set `epochs` to the number of epochs.\n",
    "- Set `batch_size` to the batch size.\n",
    "- Set `rnn_size` to the size of the RNNs.\n",
    "- Set `num_layers` to the number of layers.\n",
    "- Set `encoding_embedding_size` to the size of the embedding for the encoder.\n",
    "- Set `decoding_embedding_size` to the size of the embedding for the decoder.\n",
    "- Set `learning_rate` to the learning rate.\n",
    "- Set `keep_probability` to the Dropout keep probability\n",
    "- Set `display_step` to state how many steps between each debug output statement"
   ]
  },
  {
   "cell_type": "code",
   "execution_count": 31,
   "metadata": {
    "collapsed": true,
    "deletable": true,
    "editable": true
   },
   "outputs": [],
   "source": [
    "# Number of Epochs\n",
    "epochs = 4\n",
    "# Batch Size\n",
    "batch_size = 250\n",
    "# RNN Size\n",
    "rnn_size = 550\n",
    "# Number of Layers\n",
    "num_layers = 3\n",
    "# Embedding Size\n",
    "encoding_embedding_size = 227\n",
    "decoding_embedding_size = 227\n",
    "# Learning Rate\n",
    "learning_rate = 0.001\n",
    "# Dropout Keep Probability\n",
    "keep_probability = 0.90\n",
    "display_step = 10"
   ]
  },
  {
   "cell_type": "markdown",
   "metadata": {
    "deletable": true,
    "editable": true
   },
   "source": [
    "### Build the Graph\n",
    "Build the graph using the neural network you implemented."
   ]
  },
  {
   "cell_type": "code",
   "execution_count": 32,
   "metadata": {
    "collapsed": true,
    "deletable": true,
    "editable": true
   },
   "outputs": [],
   "source": [
    "\"\"\"\n",
    "DON'T MODIFY ANYTHING IN THIS CELL\n",
    "\"\"\"\n",
    "save_path = 'checkpoints/dev'\n",
    "(source_int_text, target_int_text), (source_vocab_to_int, target_vocab_to_int), _ = helper.load_preprocess()\n",
    "max_target_sentence_length = max([len(sentence) for sentence in source_int_text])\n",
    "\n",
    "train_graph = tf.Graph()\n",
    "with train_graph.as_default():\n",
    "    input_data, targets, lr, keep_prob, target_sequence_length, max_target_sequence_length, source_sequence_length = model_inputs()\n",
    "\n",
    "    #sequence_length = tf.placeholder_with_default(max_target_sentence_length, None, name='sequence_length')\n",
    "    input_shape = tf.shape(input_data)\n",
    "\n",
    "    train_logits, inference_logits = seq2seq_model(tf.reverse(input_data, [-1]),\n",
    "                                                   targets,\n",
    "                                                   keep_prob,\n",
    "                                                   batch_size,\n",
    "                                                   source_sequence_length,\n",
    "                                                   target_sequence_length,\n",
    "                                                   max_target_sequence_length,\n",
    "                                                   len(source_vocab_to_int),\n",
    "                                                   len(target_vocab_to_int),\n",
    "                                                   encoding_embedding_size,\n",
    "                                                   decoding_embedding_size,\n",
    "                                                   rnn_size,\n",
    "                                                   num_layers,\n",
    "                                                   target_vocab_to_int)\n",
    "\n",
    "\n",
    "    training_logits = tf.identity(train_logits.rnn_output, name='logits')\n",
    "    inference_logits = tf.identity(inference_logits.sample_id, name='predictions')\n",
    "\n",
    "    masks = tf.sequence_mask(target_sequence_length, max_target_sequence_length, dtype=tf.float32, name='masks')\n",
    "\n",
    "    with tf.name_scope(\"optimization\"):\n",
    "        # Loss function\n",
    "        cost = tf.contrib.seq2seq.sequence_loss(\n",
    "            training_logits,\n",
    "            targets,\n",
    "            masks)\n",
    "\n",
    "        # Optimizer\n",
    "        optimizer = tf.train.AdamOptimizer(lr)\n",
    "\n",
    "        # Gradient Clipping\n",
    "        gradients = optimizer.compute_gradients(cost)\n",
    "        capped_gradients = [(tf.clip_by_value(grad, -1., 1.), var) for grad, var in gradients if grad is not None]\n",
    "        train_op = optimizer.apply_gradients(capped_gradients)\n"
   ]
  },
  {
   "cell_type": "markdown",
   "metadata": {
    "deletable": true,
    "editable": true
   },
   "source": [
    "Batch and pad the source and target sequences"
   ]
  },
  {
   "cell_type": "code",
   "execution_count": 33,
   "metadata": {
    "collapsed": true,
    "deletable": true,
    "editable": true
   },
   "outputs": [],
   "source": [
    "\"\"\"\n",
    "DON'T MODIFY ANYTHING IN THIS CELL\n",
    "\"\"\"\n",
    "def pad_sentence_batch(sentence_batch, pad_int):\n",
    "    \"\"\"Pad sentences with <PAD> so that each sentence of a batch has the same length\"\"\"\n",
    "    max_sentence = max([len(sentence) for sentence in sentence_batch])\n",
    "    return [sentence + [pad_int] * (max_sentence - len(sentence)) for sentence in sentence_batch]\n",
    "\n",
    "\n",
    "def get_batches(sources, targets, batch_size, source_pad_int, target_pad_int):\n",
    "    \"\"\"Batch targets, sources, and the lengths of their sentences together\"\"\"\n",
    "    for batch_i in range(0, len(sources)//batch_size):\n",
    "        start_i = batch_i * batch_size\n",
    "\n",
    "        # Slice the right amount for the batch\n",
    "        sources_batch = sources[start_i:start_i + batch_size]\n",
    "        targets_batch = targets[start_i:start_i + batch_size]\n",
    "\n",
    "        # Pad\n",
    "        pad_sources_batch = np.array(pad_sentence_batch(sources_batch, source_pad_int))\n",
    "        pad_targets_batch = np.array(pad_sentence_batch(targets_batch, target_pad_int))\n",
    "\n",
    "        # Need the lengths for the _lengths parameters\n",
    "        pad_targets_lengths = []\n",
    "        for target in pad_targets_batch:\n",
    "            pad_targets_lengths.append(len(target))\n",
    "\n",
    "        pad_source_lengths = []\n",
    "        for source in pad_sources_batch:\n",
    "            pad_source_lengths.append(len(source))\n",
    "\n",
    "        yield pad_sources_batch, pad_targets_batch, pad_source_lengths, pad_targets_lengths\n"
   ]
  },
  {
   "cell_type": "markdown",
   "metadata": {
    "deletable": true,
    "editable": true
   },
   "source": [
    "### Train\n",
    "Train the neural network on the preprocessed data. If you have a hard time getting a good loss, check the forms to see if anyone is having the same problem."
   ]
  },
  {
   "cell_type": "code",
   "execution_count": 34,
   "metadata": {
    "collapsed": false,
    "deletable": true,
    "editable": true,
    "scrolled": true
   },
   "outputs": [
    {
     "name": "stdout",
     "output_type": "stream",
     "text": [
      "Epoch   0 Batch   10/551 - Train Accuracy: 0.2892, Validation Accuracy: 0.3740, Loss: 3.2708\n",
      "Epoch   0 Batch   20/551 - Train Accuracy: 0.3036, Validation Accuracy: 0.3629, Loss: 2.6652\n",
      "Epoch   0 Batch   30/551 - Train Accuracy: 0.2821, Validation Accuracy: 0.3402, Loss: 2.5104\n",
      "Epoch   0 Batch   40/551 - Train Accuracy: 0.4318, Validation Accuracy: 0.4613, Loss: 2.4015\n",
      "Epoch   0 Batch   50/551 - Train Accuracy: 0.3328, Validation Accuracy: 0.4000, Loss: 2.2127\n",
      "Epoch   0 Batch   60/551 - Train Accuracy: 0.3620, Validation Accuracy: 0.4255, Loss: 1.9805\n",
      "Epoch   0 Batch   70/551 - Train Accuracy: 0.4811, Validation Accuracy: 0.4907, Loss: 1.7141\n",
      "Epoch   0 Batch   80/551 - Train Accuracy: 0.4857, Validation Accuracy: 0.4989, Loss: 1.6418\n",
      "Epoch   0 Batch   90/551 - Train Accuracy: 0.4708, Validation Accuracy: 0.5129, Loss: 1.6306\n",
      "Epoch   0 Batch  100/551 - Train Accuracy: 0.4974, Validation Accuracy: 0.5084, Loss: 1.4679\n",
      "Epoch   0 Batch  110/551 - Train Accuracy: 0.4638, Validation Accuracy: 0.5024, Loss: 1.4503\n",
      "Epoch   0 Batch  120/551 - Train Accuracy: 0.5122, Validation Accuracy: 0.5215, Loss: 1.2987\n",
      "Epoch   0 Batch  130/551 - Train Accuracy: 0.4814, Validation Accuracy: 0.5313, Loss: 1.3499\n",
      "Epoch   0 Batch  140/551 - Train Accuracy: 0.5130, Validation Accuracy: 0.5325, Loss: 1.2199\n",
      "Epoch   0 Batch  150/551 - Train Accuracy: 0.5213, Validation Accuracy: 0.4945, Loss: 1.1207\n",
      "Epoch   0 Batch  160/551 - Train Accuracy: 0.5592, Validation Accuracy: 0.5276, Loss: 1.0481\n",
      "Epoch   0 Batch  170/551 - Train Accuracy: 0.5288, Validation Accuracy: 0.5411, Loss: 1.0626\n",
      "Epoch   0 Batch  180/551 - Train Accuracy: 0.5068, Validation Accuracy: 0.5276, Loss: 1.0708\n",
      "Epoch   0 Batch  190/551 - Train Accuracy: 0.5760, Validation Accuracy: 0.5640, Loss: 0.9238\n",
      "Epoch   0 Batch  200/551 - Train Accuracy: 0.5222, Validation Accuracy: 0.5673, Loss: 0.9608\n",
      "Epoch   0 Batch  210/551 - Train Accuracy: 0.5703, Validation Accuracy: 0.5618, Loss: 0.8834\n",
      "Epoch   0 Batch  220/551 - Train Accuracy: 0.5400, Validation Accuracy: 0.5700, Loss: 0.8946\n",
      "Epoch   0 Batch  230/551 - Train Accuracy: 0.5554, Validation Accuracy: 0.5625, Loss: 0.8282\n",
      "Epoch   0 Batch  240/551 - Train Accuracy: 0.5486, Validation Accuracy: 0.5765, Loss: 0.8410\n",
      "Epoch   0 Batch  250/551 - Train Accuracy: 0.5506, Validation Accuracy: 0.5702, Loss: 0.8229\n",
      "Epoch   0 Batch  260/551 - Train Accuracy: 0.5472, Validation Accuracy: 0.5758, Loss: 0.8186\n",
      "Epoch   0 Batch  270/551 - Train Accuracy: 0.5490, Validation Accuracy: 0.5807, Loss: 0.7877\n",
      "Epoch   0 Batch  280/551 - Train Accuracy: 0.5612, Validation Accuracy: 0.5813, Loss: 0.7770\n",
      "Epoch   0 Batch  290/551 - Train Accuracy: 0.5930, Validation Accuracy: 0.5975, Loss: 0.7537\n",
      "Epoch   0 Batch  300/551 - Train Accuracy: 0.5642, Validation Accuracy: 0.6029, Loss: 0.7023\n",
      "Epoch   0 Batch  310/551 - Train Accuracy: 0.6345, Validation Accuracy: 0.6093, Loss: 0.6609\n",
      "Epoch   0 Batch  320/551 - Train Accuracy: 0.6293, Validation Accuracy: 0.6125, Loss: 0.6391\n",
      "Epoch   0 Batch  330/551 - Train Accuracy: 0.6236, Validation Accuracy: 0.6020, Loss: 0.6571\n",
      "Epoch   0 Batch  340/551 - Train Accuracy: 0.5902, Validation Accuracy: 0.6111, Loss: 0.6932\n",
      "Epoch   0 Batch  350/551 - Train Accuracy: 0.6008, Validation Accuracy: 0.5982, Loss: 0.6318\n",
      "Epoch   0 Batch  360/551 - Train Accuracy: 0.5980, Validation Accuracy: 0.6120, Loss: 0.6897\n",
      "Epoch   0 Batch  370/551 - Train Accuracy: 0.5914, Validation Accuracy: 0.5905, Loss: 0.6297\n",
      "Epoch   0 Batch  380/551 - Train Accuracy: 0.6179, Validation Accuracy: 0.6280, Loss: 0.6232\n",
      "Epoch   0 Batch  390/551 - Train Accuracy: 0.6017, Validation Accuracy: 0.5996, Loss: 0.5845\n",
      "Epoch   0 Batch  400/551 - Train Accuracy: 0.6109, Validation Accuracy: 0.6255, Loss: 0.6207\n",
      "Epoch   0 Batch  410/551 - Train Accuracy: 0.6040, Validation Accuracy: 0.6158, Loss: 0.6004\n",
      "Epoch   0 Batch  420/551 - Train Accuracy: 0.6104, Validation Accuracy: 0.6207, Loss: 0.6056\n",
      "Epoch   0 Batch  430/551 - Train Accuracy: 0.6070, Validation Accuracy: 0.6160, Loss: 0.5976\n",
      "Epoch   0 Batch  440/551 - Train Accuracy: 0.6101, Validation Accuracy: 0.6231, Loss: 0.5828\n",
      "Epoch   0 Batch  450/551 - Train Accuracy: 0.6204, Validation Accuracy: 0.6311, Loss: 0.6000\n",
      "Epoch   0 Batch  460/551 - Train Accuracy: 0.6030, Validation Accuracy: 0.6345, Loss: 0.5977\n",
      "Epoch   0 Batch  470/551 - Train Accuracy: 0.6430, Validation Accuracy: 0.6420, Loss: 0.5654\n",
      "Epoch   0 Batch  480/551 - Train Accuracy: 0.6228, Validation Accuracy: 0.6378, Loss: 0.5748\n",
      "Epoch   0 Batch  490/551 - Train Accuracy: 0.6349, Validation Accuracy: 0.6400, Loss: 0.5368\n",
      "Epoch   0 Batch  500/551 - Train Accuracy: 0.6306, Validation Accuracy: 0.6389, Loss: 0.5610\n",
      "Epoch   0 Batch  510/551 - Train Accuracy: 0.6030, Validation Accuracy: 0.6265, Loss: 0.5590\n",
      "Epoch   0 Batch  520/551 - Train Accuracy: 0.6255, Validation Accuracy: 0.6565, Loss: 0.5346\n",
      "Epoch   0 Batch  530/551 - Train Accuracy: 0.6210, Validation Accuracy: 0.6195, Loss: 0.5515\n",
      "Epoch   0 Batch  540/551 - Train Accuracy: 0.6530, Validation Accuracy: 0.6495, Loss: 0.5374\n",
      "Epoch   1 Batch   10/551 - Train Accuracy: 0.6254, Validation Accuracy: 0.6460, Loss: 0.5497\n",
      "Epoch   1 Batch   20/551 - Train Accuracy: 0.6566, Validation Accuracy: 0.6736, Loss: 0.5274\n",
      "Epoch   1 Batch   30/551 - Train Accuracy: 0.6453, Validation Accuracy: 0.6564, Loss: 0.5293\n",
      "Epoch   1 Batch   40/551 - Train Accuracy: 0.6504, Validation Accuracy: 0.6525, Loss: 0.5262\n",
      "Epoch   1 Batch   50/551 - Train Accuracy: 0.6178, Validation Accuracy: 0.6613, Loss: 0.5297\n",
      "Epoch   1 Batch   60/551 - Train Accuracy: 0.6438, Validation Accuracy: 0.6629, Loss: 0.5236\n",
      "Epoch   1 Batch   70/551 - Train Accuracy: 0.6537, Validation Accuracy: 0.6571, Loss: 0.4772\n",
      "Epoch   1 Batch   80/551 - Train Accuracy: 0.6669, Validation Accuracy: 0.6693, Loss: 0.4783\n",
      "Epoch   1 Batch   90/551 - Train Accuracy: 0.6782, Validation Accuracy: 0.6733, Loss: 0.4810\n",
      "Epoch   1 Batch  100/551 - Train Accuracy: 0.6922, Validation Accuracy: 0.6785, Loss: 0.4655\n",
      "Epoch   1 Batch  110/551 - Train Accuracy: 0.6642, Validation Accuracy: 0.6844, Loss: 0.4747\n",
      "Epoch   1 Batch  120/551 - Train Accuracy: 0.6625, Validation Accuracy: 0.6758, Loss: 0.4601\n",
      "Epoch   1 Batch  130/551 - Train Accuracy: 0.6838, Validation Accuracy: 0.6707, Loss: 0.4702\n",
      "Epoch   1 Batch  140/551 - Train Accuracy: 0.6577, Validation Accuracy: 0.6680, Loss: 0.4353\n",
      "Epoch   1 Batch  150/551 - Train Accuracy: 0.6984, Validation Accuracy: 0.6791, Loss: 0.4139\n",
      "Epoch   1 Batch  160/551 - Train Accuracy: 0.7099, Validation Accuracy: 0.6982, Loss: 0.4232\n",
      "Epoch   1 Batch  170/551 - Train Accuracy: 0.6980, Validation Accuracy: 0.6980, Loss: 0.4318\n",
      "Epoch   1 Batch  180/551 - Train Accuracy: 0.6538, Validation Accuracy: 0.6715, Loss: 0.4644\n",
      "Epoch   1 Batch  190/551 - Train Accuracy: 0.7063, Validation Accuracy: 0.7036, Loss: 0.4034\n",
      "Epoch   1 Batch  200/551 - Train Accuracy: 0.6552, Validation Accuracy: 0.7129, Loss: 0.4425\n",
      "Epoch   1 Batch  210/551 - Train Accuracy: 0.7166, Validation Accuracy: 0.7104, Loss: 0.3993\n",
      "Epoch   1 Batch  220/551 - Train Accuracy: 0.6698, Validation Accuracy: 0.7156, Loss: 0.4242\n",
      "Epoch   1 Batch  230/551 - Train Accuracy: 0.7004, Validation Accuracy: 0.6958, Loss: 0.3847\n",
      "Epoch   1 Batch  240/551 - Train Accuracy: 0.7002, Validation Accuracy: 0.7222, Loss: 0.4092\n",
      "Epoch   1 Batch  250/551 - Train Accuracy: 0.6778, Validation Accuracy: 0.7145, Loss: 0.3967\n",
      "Epoch   1 Batch  260/551 - Train Accuracy: 0.6964, Validation Accuracy: 0.7291, Loss: 0.4076\n",
      "Epoch   1 Batch  270/551 - Train Accuracy: 0.6712, Validation Accuracy: 0.7065, Loss: 0.3899\n",
      "Epoch   1 Batch  280/551 - Train Accuracy: 0.6952, Validation Accuracy: 0.7151, Loss: 0.3830\n",
      "Epoch   1 Batch  290/551 - Train Accuracy: 0.7126, Validation Accuracy: 0.7231, Loss: 0.3748\n",
      "Epoch   1 Batch  300/551 - Train Accuracy: 0.7211, Validation Accuracy: 0.7318, Loss: 0.3466\n",
      "Epoch   1 Batch  310/551 - Train Accuracy: 0.7622, Validation Accuracy: 0.7342, Loss: 0.3414\n",
      "Epoch   1 Batch  320/551 - Train Accuracy: 0.7256, Validation Accuracy: 0.7298, Loss: 0.3407\n",
      "Epoch   1 Batch  330/551 - Train Accuracy: 0.7371, Validation Accuracy: 0.7462, Loss: 0.3398\n",
      "Epoch   1 Batch  340/551 - Train Accuracy: 0.7216, Validation Accuracy: 0.7204, Loss: 0.3644\n",
      "Epoch   1 Batch  350/551 - Train Accuracy: 0.7318, Validation Accuracy: 0.7335, Loss: 0.3213\n",
      "Epoch   1 Batch  360/551 - Train Accuracy: 0.7256, Validation Accuracy: 0.7384, Loss: 0.3670\n",
      "Epoch   1 Batch  370/551 - Train Accuracy: 0.7392, Validation Accuracy: 0.7520, Loss: 0.3352\n",
      "Epoch   1 Batch  380/551 - Train Accuracy: 0.7261, Validation Accuracy: 0.7498, Loss: 0.3176\n",
      "Epoch   1 Batch  390/551 - Train Accuracy: 0.7396, Validation Accuracy: 0.7609, Loss: 0.3062\n",
      "Epoch   1 Batch  400/551 - Train Accuracy: 0.7486, Validation Accuracy: 0.7604, Loss: 0.3226\n",
      "Epoch   1 Batch  410/551 - Train Accuracy: 0.7297, Validation Accuracy: 0.7436, Loss: 0.3083\n",
      "Epoch   1 Batch  420/551 - Train Accuracy: 0.7100, Validation Accuracy: 0.7371, Loss: 0.3212\n",
      "Epoch   1 Batch  430/551 - Train Accuracy: 0.7262, Validation Accuracy: 0.7536, Loss: 0.3132\n",
      "Epoch   1 Batch  440/551 - Train Accuracy: 0.7354, Validation Accuracy: 0.7538, Loss: 0.3043\n",
      "Epoch   1 Batch  450/551 - Train Accuracy: 0.7536, Validation Accuracy: 0.7573, Loss: 0.3178\n",
      "Epoch   1 Batch  460/551 - Train Accuracy: 0.7480, Validation Accuracy: 0.7413, Loss: 0.3192\n",
      "Epoch   1 Batch  470/551 - Train Accuracy: 0.7802, Validation Accuracy: 0.7500, Loss: 0.2846\n",
      "Epoch   1 Batch  480/551 - Train Accuracy: 0.7716, Validation Accuracy: 0.7553, Loss: 0.2936\n",
      "Epoch   1 Batch  490/551 - Train Accuracy: 0.7590, Validation Accuracy: 0.7553, Loss: 0.2745\n",
      "Epoch   1 Batch  500/551 - Train Accuracy: 0.7528, Validation Accuracy: 0.7755, Loss: 0.2902\n",
      "Epoch   1 Batch  510/551 - Train Accuracy: 0.7362, Validation Accuracy: 0.7740, Loss: 0.2883\n",
      "Epoch   1 Batch  520/551 - Train Accuracy: 0.7522, Validation Accuracy: 0.7638, Loss: 0.2759\n",
      "Epoch   1 Batch  530/551 - Train Accuracy: 0.7297, Validation Accuracy: 0.7636, Loss: 0.2841\n",
      "Epoch   1 Batch  540/551 - Train Accuracy: 0.7706, Validation Accuracy: 0.7669, Loss: 0.2715\n",
      "Epoch   2 Batch   10/551 - Train Accuracy: 0.7220, Validation Accuracy: 0.7780, Loss: 0.2831\n",
      "Epoch   2 Batch   20/551 - Train Accuracy: 0.7848, Validation Accuracy: 0.7787, Loss: 0.2594\n",
      "Epoch   2 Batch   30/551 - Train Accuracy: 0.7640, Validation Accuracy: 0.7678, Loss: 0.2622\n",
      "Epoch   2 Batch   40/551 - Train Accuracy: 0.7910, Validation Accuracy: 0.7804, Loss: 0.2627\n",
      "Epoch   2 Batch   50/551 - Train Accuracy: 0.7790, Validation Accuracy: 0.7867, Loss: 0.2693\n",
      "Epoch   2 Batch   60/551 - Train Accuracy: 0.7766, Validation Accuracy: 0.7587, Loss: 0.2678\n",
      "Epoch   2 Batch   70/551 - Train Accuracy: 0.7888, Validation Accuracy: 0.7569, Loss: 0.2453\n",
      "Epoch   2 Batch   80/551 - Train Accuracy: 0.7886, Validation Accuracy: 0.7760, Loss: 0.2446\n",
      "Epoch   2 Batch   90/551 - Train Accuracy: 0.8066, Validation Accuracy: 0.7842, Loss: 0.2539\n",
      "Epoch   2 Batch  100/551 - Train Accuracy: 0.8152, Validation Accuracy: 0.7744, Loss: 0.2342\n",
      "Epoch   2 Batch  110/551 - Train Accuracy: 0.8036, Validation Accuracy: 0.7698, Loss: 0.2433\n",
      "Epoch   2 Batch  120/551 - Train Accuracy: 0.7931, Validation Accuracy: 0.8007, Loss: 0.2378\n",
      "Epoch   2 Batch  130/551 - Train Accuracy: 0.8096, Validation Accuracy: 0.8031, Loss: 0.2459\n",
      "Epoch   2 Batch  140/551 - Train Accuracy: 0.7825, Validation Accuracy: 0.7885, Loss: 0.2319\n",
      "Epoch   2 Batch  150/551 - Train Accuracy: 0.8260, Validation Accuracy: 0.8031, Loss: 0.2012\n",
      "Epoch   2 Batch  160/551 - Train Accuracy: 0.8217, Validation Accuracy: 0.8133, Loss: 0.2035\n",
      "Epoch   2 Batch  170/551 - Train Accuracy: 0.8170, Validation Accuracy: 0.7835, Loss: 0.2014\n",
      "Epoch   2 Batch  180/551 - Train Accuracy: 0.7884, Validation Accuracy: 0.8045, Loss: 0.2291\n",
      "Epoch   2 Batch  190/551 - Train Accuracy: 0.8061, Validation Accuracy: 0.8033, Loss: 0.2047\n",
      "Epoch   2 Batch  200/551 - Train Accuracy: 0.7996, Validation Accuracy: 0.7978, Loss: 0.2184\n",
      "Epoch   2 Batch  210/551 - Train Accuracy: 0.8156, Validation Accuracy: 0.8202, Loss: 0.1978\n",
      "Epoch   2 Batch  220/551 - Train Accuracy: 0.8050, Validation Accuracy: 0.8182, Loss: 0.2039\n",
      "Epoch   2 Batch  230/551 - Train Accuracy: 0.8208, Validation Accuracy: 0.7907, Loss: 0.1948\n",
      "Epoch   2 Batch  240/551 - Train Accuracy: 0.8336, Validation Accuracy: 0.8169, Loss: 0.1992\n",
      "Epoch   2 Batch  250/551 - Train Accuracy: 0.8026, Validation Accuracy: 0.8105, Loss: 0.2036\n",
      "Epoch   2 Batch  260/551 - Train Accuracy: 0.8112, Validation Accuracy: 0.8136, Loss: 0.2047\n",
      "Epoch   2 Batch  270/551 - Train Accuracy: 0.7820, Validation Accuracy: 0.8053, Loss: 0.2095\n",
      "Epoch   2 Batch  280/551 - Train Accuracy: 0.7974, Validation Accuracy: 0.8089, Loss: 0.2012\n",
      "Epoch   2 Batch  290/551 - Train Accuracy: 0.8180, Validation Accuracy: 0.8213, Loss: 0.1963\n",
      "Epoch   2 Batch  300/551 - Train Accuracy: 0.8190, Validation Accuracy: 0.8302, Loss: 0.1786\n",
      "Epoch   2 Batch  310/551 - Train Accuracy: 0.8476, Validation Accuracy: 0.8315, Loss: 0.1773\n",
      "Epoch   2 Batch  320/551 - Train Accuracy: 0.8411, Validation Accuracy: 0.8355, Loss: 0.1700\n",
      "Epoch   2 Batch  330/551 - Train Accuracy: 0.8341, Validation Accuracy: 0.8398, Loss: 0.1684\n",
      "Epoch   2 Batch  340/551 - Train Accuracy: 0.8306, Validation Accuracy: 0.8365, Loss: 0.1886\n",
      "Epoch   2 Batch  350/551 - Train Accuracy: 0.8238, Validation Accuracy: 0.8305, Loss: 0.1638\n",
      "Epoch   2 Batch  360/551 - Train Accuracy: 0.8318, Validation Accuracy: 0.8513, Loss: 0.1938\n",
      "Epoch   2 Batch  370/551 - Train Accuracy: 0.8310, Validation Accuracy: 0.8342, Loss: 0.1916\n",
      "Epoch   2 Batch  380/551 - Train Accuracy: 0.8606, Validation Accuracy: 0.8369, Loss: 0.1716\n",
      "Epoch   2 Batch  390/551 - Train Accuracy: 0.8290, Validation Accuracy: 0.8147, Loss: 0.3296\n",
      "Epoch   2 Batch  400/551 - Train Accuracy: 0.8204, Validation Accuracy: 0.8209, Loss: 0.2430\n",
      "Epoch   2 Batch  410/551 - Train Accuracy: 0.8251, Validation Accuracy: 0.8387, Loss: 0.2060\n",
      "Epoch   2 Batch  420/551 - Train Accuracy: 0.8238, Validation Accuracy: 0.8096, Loss: 0.1901\n",
      "Epoch   2 Batch  430/551 - Train Accuracy: 0.8496, Validation Accuracy: 0.8415, Loss: 0.1828\n",
      "Epoch   2 Batch  440/551 - Train Accuracy: 0.8385, Validation Accuracy: 0.8400, Loss: 0.1644\n",
      "Epoch   2 Batch  450/551 - Train Accuracy: 0.8538, Validation Accuracy: 0.8375, Loss: 0.1614\n",
      "Epoch   2 Batch  460/551 - Train Accuracy: 0.8600, Validation Accuracy: 0.8435, Loss: 0.1772\n",
      "Epoch   2 Batch  470/551 - Train Accuracy: 0.8450, Validation Accuracy: 0.8451, Loss: 0.1533\n",
      "Epoch   2 Batch  480/551 - Train Accuracy: 0.8708, Validation Accuracy: 0.8571, Loss: 0.1563\n",
      "Epoch   2 Batch  490/551 - Train Accuracy: 0.8745, Validation Accuracy: 0.8509, Loss: 0.1345\n",
      "Epoch   2 Batch  500/551 - Train Accuracy: 0.8828, Validation Accuracy: 0.8835, Loss: 0.1358\n",
      "Epoch   2 Batch  510/551 - Train Accuracy: 0.8622, Validation Accuracy: 0.8840, Loss: 0.1337\n",
      "Epoch   2 Batch  520/551 - Train Accuracy: 0.8632, Validation Accuracy: 0.8800, Loss: 0.1368\n",
      "Epoch   2 Batch  530/551 - Train Accuracy: 0.8709, Validation Accuracy: 0.8702, Loss: 0.1333\n",
      "Epoch   2 Batch  540/551 - Train Accuracy: 0.8796, Validation Accuracy: 0.8845, Loss: 0.1316\n",
      "Epoch   3 Batch   10/551 - Train Accuracy: 0.8706, Validation Accuracy: 0.8907, Loss: 0.1390\n",
      "Epoch   3 Batch   20/551 - Train Accuracy: 0.9030, Validation Accuracy: 0.8962, Loss: 0.1213\n",
      "Epoch   3 Batch   30/551 - Train Accuracy: 0.8842, Validation Accuracy: 0.8873, Loss: 0.1208\n",
      "Epoch   3 Batch   40/551 - Train Accuracy: 0.8996, Validation Accuracy: 0.9013, Loss: 0.1194\n",
      "Epoch   3 Batch   50/551 - Train Accuracy: 0.8896, Validation Accuracy: 0.8867, Loss: 0.1260\n",
      "Epoch   3 Batch   60/551 - Train Accuracy: 0.8856, Validation Accuracy: 0.8922, Loss: 0.1140\n",
      "Epoch   3 Batch   70/551 - Train Accuracy: 0.8834, Validation Accuracy: 0.8867, Loss: 0.1180\n",
      "Epoch   3 Batch   80/551 - Train Accuracy: 0.8928, Validation Accuracy: 0.9042, Loss: 0.1104\n",
      "Epoch   3 Batch   90/551 - Train Accuracy: 0.9144, Validation Accuracy: 0.9105, Loss: 0.1050\n",
      "Epoch   3 Batch  100/551 - Train Accuracy: 0.9052, Validation Accuracy: 0.9116, Loss: 0.1052\n",
      "Epoch   3 Batch  110/551 - Train Accuracy: 0.8994, Validation Accuracy: 0.8878, Loss: 0.1104\n",
      "Epoch   3 Batch  120/551 - Train Accuracy: 0.8872, Validation Accuracy: 0.9073, Loss: 0.1148\n",
      "Epoch   3 Batch  130/551 - Train Accuracy: 0.8974, Validation Accuracy: 0.9118, Loss: 0.1111\n",
      "Epoch   3 Batch  140/551 - Train Accuracy: 0.8916, Validation Accuracy: 0.9073, Loss: 0.1128\n",
      "Epoch   3 Batch  150/551 - Train Accuracy: 0.9011, Validation Accuracy: 0.9071, Loss: 0.0968\n",
      "Epoch   3 Batch  160/551 - Train Accuracy: 0.9229, Validation Accuracy: 0.9131, Loss: 0.0993\n",
      "Epoch   3 Batch  170/551 - Train Accuracy: 0.9096, Validation Accuracy: 0.8915, Loss: 0.1272\n",
      "Epoch   3 Batch  180/551 - Train Accuracy: 0.8966, Validation Accuracy: 0.8971, Loss: 0.1301\n",
      "Epoch   3 Batch  190/551 - Train Accuracy: 0.9109, Validation Accuracy: 0.9005, Loss: 0.1130\n",
      "Epoch   3 Batch  200/551 - Train Accuracy: 0.8970, Validation Accuracy: 0.9004, Loss: 0.1110\n",
      "Epoch   3 Batch  210/551 - Train Accuracy: 0.9057, Validation Accuracy: 0.9071, Loss: 0.1053\n",
      "Epoch   3 Batch  220/551 - Train Accuracy: 0.9144, Validation Accuracy: 0.9038, Loss: 0.1008\n",
      "Epoch   3 Batch  230/551 - Train Accuracy: 0.9170, Validation Accuracy: 0.9049, Loss: 0.0968\n",
      "Epoch   3 Batch  240/551 - Train Accuracy: 0.9234, Validation Accuracy: 0.9007, Loss: 0.0911\n",
      "Epoch   3 Batch  250/551 - Train Accuracy: 0.9032, Validation Accuracy: 0.9124, Loss: 0.0931\n",
      "Epoch   3 Batch  260/551 - Train Accuracy: 0.8928, Validation Accuracy: 0.9209, Loss: 0.0972\n",
      "Epoch   3 Batch  270/551 - Train Accuracy: 0.8986, Validation Accuracy: 0.9076, Loss: 0.0946\n",
      "Epoch   3 Batch  280/551 - Train Accuracy: 0.8900, Validation Accuracy: 0.9149, Loss: 0.0928\n",
      "Epoch   3 Batch  290/551 - Train Accuracy: 0.9160, Validation Accuracy: 0.9187, Loss: 0.0950\n",
      "Epoch   3 Batch  300/551 - Train Accuracy: 0.9225, Validation Accuracy: 0.9133, Loss: 0.0811\n",
      "Epoch   3 Batch  310/551 - Train Accuracy: 0.9260, Validation Accuracy: 0.9258, Loss: 0.0838\n",
      "Epoch   3 Batch  320/551 - Train Accuracy: 0.9138, Validation Accuracy: 0.9235, Loss: 0.0741\n",
      "Epoch   3 Batch  330/551 - Train Accuracy: 0.9171, Validation Accuracy: 0.9011, Loss: 0.0842\n",
      "Epoch   3 Batch  340/551 - Train Accuracy: 0.9136, Validation Accuracy: 0.9178, Loss: 0.0922\n",
      "Epoch   3 Batch  350/551 - Train Accuracy: 0.9217, Validation Accuracy: 0.9215, Loss: 0.0807\n",
      "Epoch   3 Batch  360/551 - Train Accuracy: 0.9250, Validation Accuracy: 0.9262, Loss: 0.0971\n",
      "Epoch   3 Batch  370/551 - Train Accuracy: 0.9278, Validation Accuracy: 0.9215, Loss: 0.0863\n",
      "Epoch   3 Batch  380/551 - Train Accuracy: 0.9417, Validation Accuracy: 0.9307, Loss: 0.0731\n",
      "Epoch   3 Batch  390/551 - Train Accuracy: 0.9379, Validation Accuracy: 0.9218, Loss: 0.0763\n",
      "Epoch   3 Batch  400/551 - Train Accuracy: 0.9229, Validation Accuracy: 0.9225, Loss: 0.0848\n",
      "Epoch   3 Batch  410/551 - Train Accuracy: 0.9293, Validation Accuracy: 0.9295, Loss: 0.0782\n",
      "Epoch   3 Batch  420/551 - Train Accuracy: 0.9384, Validation Accuracy: 0.9176, Loss: 0.0714\n",
      "Epoch   3 Batch  430/551 - Train Accuracy: 0.9332, Validation Accuracy: 0.9215, Loss: 0.0851\n",
      "Epoch   3 Batch  440/551 - Train Accuracy: 0.9080, Validation Accuracy: 0.9253, Loss: 0.0837\n",
      "Epoch   3 Batch  450/551 - Train Accuracy: 0.9200, Validation Accuracy: 0.9144, Loss: 0.0792\n",
      "Epoch   3 Batch  460/551 - Train Accuracy: 0.9278, Validation Accuracy: 0.9127, Loss: 0.0929\n",
      "Epoch   3 Batch  470/551 - Train Accuracy: 0.9202, Validation Accuracy: 0.9302, Loss: 0.0736\n",
      "Epoch   3 Batch  480/551 - Train Accuracy: 0.9260, Validation Accuracy: 0.9131, Loss: 0.0889\n",
      "Epoch   3 Batch  490/551 - Train Accuracy: 0.9331, Validation Accuracy: 0.9200, Loss: 0.0744\n",
      "Epoch   3 Batch  500/551 - Train Accuracy: 0.9222, Validation Accuracy: 0.9069, Loss: 0.0672\n",
      "Epoch   3 Batch  510/551 - Train Accuracy: 0.9186, Validation Accuracy: 0.9315, Loss: 0.0796\n",
      "Epoch   3 Batch  520/551 - Train Accuracy: 0.9238, Validation Accuracy: 0.9396, Loss: 0.0717\n",
      "Epoch   3 Batch  530/551 - Train Accuracy: 0.9394, Validation Accuracy: 0.9262, Loss: 0.0735\n",
      "Epoch   3 Batch  540/551 - Train Accuracy: 0.9412, Validation Accuracy: 0.9211, Loss: 0.0708\n",
      "Model Trained and Saved\n"
     ]
    }
   ],
   "source": [
    "\"\"\"\n",
    "DON'T MODIFY ANYTHING IN THIS CELL\n",
    "\"\"\"\n",
    "def get_accuracy(target, logits):\n",
    "    \"\"\"\n",
    "    Calculate accuracy\n",
    "    \"\"\"\n",
    "    max_seq = max(target.shape[1], logits.shape[1])\n",
    "    if max_seq - target.shape[1]:\n",
    "        target = np.pad(\n",
    "            target,\n",
    "            [(0,0),(0,max_seq - target.shape[1])],\n",
    "            'constant')\n",
    "    if max_seq - logits.shape[1]:\n",
    "        logits = np.pad(\n",
    "            logits,\n",
    "            [(0,0),(0,max_seq - logits.shape[1])],\n",
    "            'constant')\n",
    "\n",
    "    return np.mean(np.equal(target, logits))\n",
    "\n",
    "# Split data to training and validation sets\n",
    "train_source = source_int_text[batch_size:]\n",
    "train_target = target_int_text[batch_size:]\n",
    "valid_source = source_int_text[:batch_size]\n",
    "valid_target = target_int_text[:batch_size]\n",
    "(valid_sources_batch, valid_targets_batch, valid_sources_lengths, valid_targets_lengths ) = next(get_batches(valid_source,\n",
    "                                                                                                             valid_target,\n",
    "                                                                                                             batch_size,\n",
    "                                                                                                             source_vocab_to_int['<PAD>'],\n",
    "                                                                                                             target_vocab_to_int['<PAD>']))                                                                                                  \n",
    "with tf.Session(graph=train_graph) as sess:\n",
    "    sess.run(tf.global_variables_initializer())\n",
    "\n",
    "    for epoch_i in range(epochs):\n",
    "        for batch_i, (source_batch, target_batch, sources_lengths, targets_lengths) in enumerate(\n",
    "                get_batches(train_source, train_target, batch_size,\n",
    "                            source_vocab_to_int['<PAD>'],\n",
    "                            target_vocab_to_int['<PAD>'])):\n",
    "\n",
    "            _, loss = sess.run(\n",
    "                [train_op, cost],\n",
    "                {input_data: source_batch,\n",
    "                 targets: target_batch,\n",
    "                 lr: learning_rate,\n",
    "                 target_sequence_length: targets_lengths,\n",
    "                 source_sequence_length: sources_lengths,\n",
    "                 keep_prob: keep_probability})\n",
    "\n",
    "\n",
    "            if batch_i % display_step == 0 and batch_i > 0:\n",
    "\n",
    "\n",
    "                batch_train_logits = sess.run(\n",
    "                    inference_logits,\n",
    "                    {input_data: source_batch,\n",
    "                     source_sequence_length: sources_lengths,\n",
    "                     target_sequence_length: targets_lengths,\n",
    "                     keep_prob: 1.0})\n",
    "\n",
    "\n",
    "                batch_valid_logits = sess.run(\n",
    "                    inference_logits,\n",
    "                    {input_data: valid_sources_batch,\n",
    "                     source_sequence_length: valid_sources_lengths,\n",
    "                     target_sequence_length: valid_targets_lengths,\n",
    "                     keep_prob: 1.0})\n",
    "\n",
    "                train_acc = get_accuracy(target_batch, batch_train_logits)\n",
    "\n",
    "                valid_acc = get_accuracy(valid_targets_batch, batch_valid_logits)\n",
    "\n",
    "                print('Epoch {:>3} Batch {:>4}/{} - Train Accuracy: {:>6.4f}, Validation Accuracy: {:>6.4f}, Loss: {:>6.4f}'\n",
    "                      .format(epoch_i, batch_i, len(source_int_text) // batch_size, train_acc, valid_acc, loss))\n",
    "\n",
    "    # Save Model\n",
    "    saver = tf.train.Saver()\n",
    "    saver.save(sess, save_path)\n",
    "    print('Model Trained and Saved')"
   ]
  },
  {
   "cell_type": "markdown",
   "metadata": {
    "deletable": true,
    "editable": true
   },
   "source": [
    "### Save Parameters\n",
    "Save the `batch_size` and `save_path` parameters for inference."
   ]
  },
  {
   "cell_type": "code",
   "execution_count": 35,
   "metadata": {
    "collapsed": true,
    "deletable": true,
    "editable": true
   },
   "outputs": [],
   "source": [
    "\"\"\"\n",
    "DON'T MODIFY ANYTHING IN THIS CELL\n",
    "\"\"\"\n",
    "# Save parameters for checkpoint\n",
    "helper.save_params(save_path)"
   ]
  },
  {
   "cell_type": "markdown",
   "metadata": {
    "deletable": true,
    "editable": true
   },
   "source": [
    "# Checkpoint"
   ]
  },
  {
   "cell_type": "code",
   "execution_count": 36,
   "metadata": {
    "collapsed": true,
    "deletable": true,
    "editable": true
   },
   "outputs": [],
   "source": [
    "\"\"\"\n",
    "DON'T MODIFY ANYTHING IN THIS CELL\n",
    "\"\"\"\n",
    "import tensorflow as tf\n",
    "import numpy as np\n",
    "import helper\n",
    "import problem_unittests as tests\n",
    "\n",
    "_, (source_vocab_to_int, target_vocab_to_int), (source_int_to_vocab, target_int_to_vocab) = helper.load_preprocess()\n",
    "load_path = helper.load_params()"
   ]
  },
  {
   "cell_type": "markdown",
   "metadata": {
    "deletable": true,
    "editable": true
   },
   "source": [
    "## Sentence to Sequence\n",
    "To feed a sentence into the model for translation, you first need to preprocess it.  Implement the function `sentence_to_seq()` to preprocess new sentences.\n",
    "\n",
    "- Convert the sentence to lowercase\n",
    "- Convert words into ids using `vocab_to_int`\n",
    " - Convert words not in the vocabulary, to the `<UNK>` word id."
   ]
  },
  {
   "cell_type": "code",
   "execution_count": 37,
   "metadata": {
    "collapsed": false,
    "deletable": true,
    "editable": true
   },
   "outputs": [
    {
     "name": "stdout",
     "output_type": "stream",
     "text": [
      "Tests Passed\n"
     ]
    }
   ],
   "source": [
    "def sentence_to_seq(sentence, vocab_to_int):\n",
    "    \"\"\"\n",
    "    Convert a sentence to a sequence of ids\n",
    "    :param sentence: String\n",
    "    :param vocab_to_int: Dictionary to go from the words to an id\n",
    "    :return: List of word ids\n",
    "    \"\"\"\n",
    "    # TODO: Implement Function\n",
    "    \n",
    "    n_sentence = sentence.lower().split()\n",
    "    l_word = []\n",
    "    \n",
    "    l_vocab = list(vocab_to_int.keys())\n",
    "    \n",
    "    for i in n_sentence:\n",
    "        if i not in l_vocab:\n",
    "            l_word.append(vocab_to_int[\"<UNK>\"])\n",
    "        else:\n",
    "            l_word.append(vocab_to_int[i])\n",
    "    \n",
    "    return l_word\n",
    "\n",
    "\n",
    "\"\"\"\n",
    "DON'T MODIFY ANYTHING IN THIS CELL THAT IS BELOW THIS LINE\n",
    "\"\"\"\n",
    "tests.test_sentence_to_seq(sentence_to_seq)"
   ]
  },
  {
   "cell_type": "markdown",
   "metadata": {
    "deletable": true,
    "editable": true
   },
   "source": [
    "## Translate\n",
    "This will translate `translate_sentence` from English to French."
   ]
  },
  {
   "cell_type": "code",
   "execution_count": 51,
   "metadata": {
    "collapsed": false,
    "deletable": true,
    "editable": true
   },
   "outputs": [
    {
     "name": "stdout",
     "output_type": "stream",
     "text": [
      "INFO:tensorflow:Restoring parameters from checkpoints/dev\n",
      "Input\n",
      "  Word Ids:      [208, 90, 185, 32, 221, 72, 227]\n",
      "  English Words: ['he', 'saw', 'a', 'old', 'yellow', 'truck', '.']\n",
      "\n",
      "Prediction\n",
      "  Word Ids:      [49, 253, 94, 13, 303, 19, 124, 178, 1]\n",
      "  French Words: pourquoi a conduit un vieux camion jaune . <EOS>\n"
     ]
    }
   ],
   "source": [
    "translate_sentence = 'he saw a old yellow truck .'\n",
    "\n",
    "\"\"\"\n",
    "DON'T MODIFY ANYTHING IN THIS CELL\n",
    "\"\"\"\n",
    "translate_sentence = sentence_to_seq(translate_sentence, source_vocab_to_int)\n",
    "\n",
    "loaded_graph = tf.Graph()\n",
    "with tf.Session(graph=loaded_graph) as sess:\n",
    "    # Load saved model\n",
    "    loader = tf.train.import_meta_graph(load_path + '.meta')\n",
    "    loader.restore(sess, load_path)\n",
    "\n",
    "    input_data = loaded_graph.get_tensor_by_name('input:0')\n",
    "    logits = loaded_graph.get_tensor_by_name('predictions:0')\n",
    "    target_sequence_length = loaded_graph.get_tensor_by_name('target_sequence_length:0')\n",
    "    source_sequence_length = loaded_graph.get_tensor_by_name('source_sequence_length:0')\n",
    "    keep_prob = loaded_graph.get_tensor_by_name('keep_prob:0')\n",
    "\n",
    "    translate_logits = sess.run(logits, {input_data: [translate_sentence]*batch_size,\n",
    "                                         target_sequence_length: [len(translate_sentence)*2]*batch_size,\n",
    "                                         source_sequence_length: [len(translate_sentence)]*batch_size,\n",
    "                                         keep_prob: 1.0})[0]\n",
    "\n",
    "print('Input')\n",
    "print('  Word Ids:      {}'.format([i for i in translate_sentence]))\n",
    "print('  English Words: {}'.format([source_int_to_vocab[i] for i in translate_sentence]))\n",
    "\n",
    "print('\\nPrediction')\n",
    "print('  Word Ids:      {}'.format([i for i in translate_logits]))\n",
    "print('  French Words: {}'.format(\" \".join([target_int_to_vocab[i] for i in translate_logits])))\n"
   ]
  },
  {
   "cell_type": "markdown",
   "metadata": {
    "deletable": true,
    "editable": true
   },
   "source": [
    "## Imperfect Translation\n",
    "You might notice that some sentences translate better than others.  Since the dataset you're using only has a vocabulary of 227 English words of the thousands that you use, you're only going to see good results using these words.  For this project, you don't need a perfect translation. However, if you want to create a better translation model, you'll need better data.\n",
    "\n",
    "You can train on the [WMT10 French-English corpus](http://www.statmt.org/wmt10/training-giga-fren.tar).  This dataset has more vocabulary and richer in topics discussed.  However, this will take you days to train, so make sure you've a GPU and the neural network is performing well on dataset we provided.  Just make sure you play with the WMT10 corpus after you've submitted this project.\n",
    "## Submitting This Project\n",
    "When submitting this project, make sure to run all the cells before saving the notebook. Save the notebook file as \"dlnd_language_translation.ipynb\" and save it as a HTML file under \"File\" -> \"Download as\". Include the \"helper.py\" and \"problem_unittests.py\" files in your submission."
   ]
  }
 ],
 "metadata": {
  "anaconda-cloud": {},
  "kernelspec": {
   "display_name": "Python 3",
   "language": "python",
   "name": "python3"
  },
  "language_info": {
   "codemirror_mode": {
    "name": "ipython",
    "version": 3
   },
   "file_extension": ".py",
   "mimetype": "text/x-python",
   "name": "python",
   "nbconvert_exporter": "python",
   "pygments_lexer": "ipython3",
   "version": "3.5.2"
  },
  "widgets": {
   "state": {},
   "version": "1.1.2"
  }
 },
 "nbformat": 4,
 "nbformat_minor": 1
}
